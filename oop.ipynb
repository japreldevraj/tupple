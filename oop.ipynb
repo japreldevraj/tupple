{
 "cells": [
  {
   "cell_type": "code",
   "execution_count": 1,
   "metadata": {},
   "outputs": [],
   "source": [
    "# class <class_name>:\n",
    "#     <methods>\n",
    "# <object>"
   ]
  },
  {
   "cell_type": "code",
   "execution_count": 2,
   "metadata": {},
   "outputs": [
    {
     "name": "stdout",
     "output_type": "stream",
     "text": [
      "Hello world\n"
     ]
    }
   ],
   "source": [
    "class Info:\n",
    "    def info(self):\n",
    "        print(\"Hello world\")\n",
    "        \n",
    "obj = Info()\n",
    "\n",
    "obj.info()"
   ]
  },
  {
   "cell_type": "code",
   "execution_count": 3,
   "metadata": {},
   "outputs": [
    {
     "name": "stdout",
     "output_type": "stream",
     "text": [
      "Hello world\n",
      "This is infos method\n"
     ]
    }
   ],
   "source": [
    "class Info:\n",
    "    def info(self):\n",
    "        print(\"Hello world\")\n",
    "    def infos(self):\n",
    "        print(\"This is infos method\")\n",
    "obj = Info()\n",
    "\n",
    "\n",
    "obj.info()\n",
    "obj.infos()"
   ]
  },
  {
   "cell_type": "code",
   "execution_count": 5,
   "metadata": {},
   "outputs": [
    {
     "name": "stdout",
     "output_type": "stream",
     "text": [
      "Hello world I am Ram\n"
     ]
    }
   ],
   "source": [
    "class Info:\n",
    "    def info(self,name):\n",
    "        print(\"Hello world I am\",name)\n",
    "        \n",
    "obj = Info()\n",
    "\n",
    "obj.info(\"Ram\")"
   ]
  },
  {
   "cell_type": "code",
   "execution_count": 6,
   "metadata": {},
   "outputs": [
    {
     "name": "stdout",
     "output_type": "stream",
     "text": [
      "Hello world I am Ram\n",
      "Sita 56 Patan\n"
     ]
    }
   ],
   "source": [
    "class Info:\n",
    "    def info(self,name):\n",
    "        print(\"Hello world I am\",name)\n",
    "        \n",
    "    def infos(self,name,age,address):\n",
    "        print(name,age,address)\n",
    "obj = Info()\n",
    "\n",
    "obj.info(\"Ram\")\n",
    "obj.infos(\"Sita\",56,\"Patan\")"
   ]
  },
  {
   "cell_type": "code",
   "execution_count": 7,
   "metadata": {},
   "outputs": [
    {
     "name": "stdout",
     "output_type": "stream",
     "text": [
      "Hello world I am Ram\n",
      "('Sita', 56, 'Patan')\n"
     ]
    }
   ],
   "source": [
    "class Info:\n",
    "    def info(self,name):\n",
    "        print(\"Hello world I am\",name)\n",
    "        \n",
    "    def infos(self,x):\n",
    "        print(x)\n",
    "obj = Info()\n",
    "x = (\"Sita\",56,\"Patan\")\n",
    "obj.info(\"Ram\")\n",
    "obj.infos(x)"
   ]
  },
  {
   "cell_type": "code",
   "execution_count": 9,
   "metadata": {},
   "outputs": [
    {
     "name": "stdout",
     "output_type": "stream",
     "text": [
      "Hello world I am Ram\n",
      "Sita 56 Patan\n"
     ]
    }
   ],
   "source": [
    "class Info:\n",
    "    def info(self,name):\n",
    "        print(\"Hello world I am\",name)\n",
    "        \n",
    "    def infos(self,name,age,address):\n",
    "        print(name,age,address)\n",
    "obj = Info()\n",
    "\n",
    "obj.info(\"Ram\")\n",
    "obj.infos(\"Sita\",56,\"Patan\")"
   ]
  },
  {
   "cell_type": "code",
   "execution_count": 12,
   "metadata": {},
   "outputs": [
    {
     "name": "stdout",
     "output_type": "stream",
     "text": [
      "<class 'str'>\n",
      "Hello I am  Ram I am  67\n"
     ]
    }
   ],
   "source": [
    "class Cal:\n",
    "    def __init__(self,name,age):\n",
    "        self.name = name\n",
    "        self.age = age\n",
    "        print(type(self.name))\n",
    "    def info(self):\n",
    "        print(\"Hello I am \",self.name,\"I am \",self.age)\n",
    "        \n",
    "obj = Cal(\"Ram\",67)\n",
    "obj.info()"
   ]
  },
  {
   "cell_type": "code",
   "execution_count": 3,
   "metadata": {},
   "outputs": [
    {
     "name": "stdout",
     "output_type": "stream",
     "text": [
      "Pankaj, 34\n"
     ]
    }
   ],
   "source": [
    "class Person:\n",
    "    \n",
    "    def __init__(self, personName, personAge):\n",
    "        self.name = personName\n",
    "        self.age = personAge\n",
    "        \n",
    "    def __str__(self):\n",
    "            return f\"{self.name}, {self.age}\"\n",
    "\n",
    "p = Person('Pankaj', 34)\n",
    "\n",
    "\n",
    "# __str__() example\n",
    "print(p)\n",
    "\n"
   ]
  },
  {
   "cell_type": "code",
   "execution_count": 6,
   "metadata": {},
   "outputs": [
    {
     "data": {
      "text/plain": [
       "{'Name': 'Pankaj', 'Age': 34}"
      ]
     },
     "execution_count": 6,
     "metadata": {},
     "output_type": "execute_result"
    }
   ],
   "source": [
    "class Person:\n",
    "    \n",
    "    def __init__(self, personName, personAge):\n",
    "        self.name = personName\n",
    "        self.age = personAge\n",
    "        \n",
    "    def __repr__(self):\n",
    "            return {'Name':self.name,'Age':self.age}\n",
    "\n",
    "p = Person('Pankaj', 34)\n",
    "\n",
    "\n",
    "# __repr__() example\n",
    "p.__repr__()"
   ]
  },
  {
   "cell_type": "code",
   "execution_count": 7,
   "metadata": {},
   "outputs": [
    {
     "ename": "TypeError",
     "evalue": "unsupported operand type(s) for +: 'Point' and 'Point'",
     "output_type": "error",
     "traceback": [
      "\u001b[1;31m---------------------------------------------------------------------------\u001b[0m",
      "\u001b[1;31mTypeError\u001b[0m                                 Traceback (most recent call last)",
      "\u001b[1;32m<ipython-input-7-49402e4e232c>\u001b[0m in \u001b[0;36m<module>\u001b[1;34m\u001b[0m\n\u001b[0;32m      5\u001b[0m \u001b[0mp1\u001b[0m \u001b[1;33m=\u001b[0m \u001b[0mPoint\u001b[0m\u001b[1;33m(\u001b[0m\u001b[1;36m2\u001b[0m\u001b[1;33m,\u001b[0m\u001b[1;36m3\u001b[0m\u001b[1;33m)\u001b[0m\u001b[1;33m\u001b[0m\u001b[1;33m\u001b[0m\u001b[0m\n\u001b[0;32m      6\u001b[0m \u001b[0mp2\u001b[0m \u001b[1;33m=\u001b[0m \u001b[0mPoint\u001b[0m\u001b[1;33m(\u001b[0m\u001b[1;33m-\u001b[0m\u001b[1;36m1\u001b[0m\u001b[1;33m,\u001b[0m\u001b[1;36m2\u001b[0m\u001b[1;33m)\u001b[0m\u001b[1;33m\u001b[0m\u001b[1;33m\u001b[0m\u001b[0m\n\u001b[1;32m----> 7\u001b[1;33m \u001b[0mp1\u001b[0m \u001b[1;33m+\u001b[0m \u001b[0mp2\u001b[0m\u001b[1;33m\u001b[0m\u001b[1;33m\u001b[0m\u001b[0m\n\u001b[0m",
      "\u001b[1;31mTypeError\u001b[0m: unsupported operand type(s) for +: 'Point' and 'Point'"
     ]
    }
   ],
   "source": [
    "class Point:\n",
    "    def __init__(self, x = 0, y = 0):\n",
    "        self.x = x\n",
    "        self.y = y\n",
    "p1 = Point(2,3)\n",
    "p2 = Point(-1,2)\n",
    "p1 + p2\n"
   ]
  },
  {
   "cell_type": "code",
   "execution_count": 12,
   "metadata": {},
   "outputs": [
    {
     "name": "stdout",
     "output_type": "stream",
     "text": [
      "2\n",
      "3\n",
      "-1\n",
      "2\n",
      "1\n",
      "5\n",
      "(1,5)\n"
     ]
    }
   ],
   "source": [
    "class Point:\n",
    "    def __init__(self, x = 0, y = 0):\n",
    "        self.x = x\n",
    "        print(self.x)\n",
    "        self.y = y\n",
    "        print(self.y)\n",
    "    \n",
    "    def __str__(self):\n",
    "        return f\"({self.x},{self.y})\"\n",
    "    \n",
    "    def __add__(self,other):\n",
    "        x = self.x + other.x\n",
    "        y = self.y + other.y\n",
    "        return Point(x,y)\n",
    "p1 = Point(2,3)\n",
    "p2 = Point(-1,2)\n",
    "print(p1 + p2)"
   ]
  },
  {
   "cell_type": "code",
   "execution_count": 13,
   "metadata": {},
   "outputs": [
    {
     "name": "stdout",
     "output_type": "stream",
     "text": [
      "10000\n",
      "70000\n",
      "80000\n",
      "70000\n",
      "150000\n",
      "5000\n",
      "155000\n"
     ]
    }
   ],
   "source": [
    "class Point:\n",
    "    def __init__(self,y=0 ):\n",
    "        \n",
    "        self.y = y\n",
    "    \n",
    "    def __str__(self):\n",
    "        return f\"{self.y}\"\n",
    "    \n",
    "    def __add__(self,other):\n",
    "        y = self.y + other.y\n",
    "        print(self.y)\n",
    "        print(other.y)\n",
    "        return Point(y)\n",
    "    \n",
    "p1 = Point(10000)\n",
    "p2 = Point(70000)\n",
    "p3 = Point(70000)\n",
    "p4 = Point(5000)\n",
    "z = p1+ p2 +p3 +p4\n",
    "print(z)"
   ]
  },
  {
   "cell_type": "code",
   "execution_count": 16,
   "metadata": {},
   "outputs": [
    {
     "name": "stdout",
     "output_type": "stream",
     "text": [
      "<class 'str'>\n",
      "Hello I am  Ram I am  67\n",
      "Ram\n",
      "67\n"
     ]
    }
   ],
   "source": [
    "class Cal:\n",
    "    def __init__(self,name,age):\n",
    "        self.name = name\n",
    "        self.age = age\n",
    "        print(type(self.name))\n",
    "    def info(self):\n",
    "        print(\"Hello I am \",self.name,\"I am \",self.age)\n",
    "        \n",
    "obj = Cal(\"Ram\",67)\n",
    "obj.info()\n",
    "print(obj.name)\n",
    "print(obj.age)"
   ]
  },
  {
   "cell_type": "code",
   "execution_count": 17,
   "metadata": {},
   "outputs": [],
   "source": [
    "# Public\n",
    "class employee:\n",
    "    def __init__(self, name, sal):\n",
    "        self.name=name\n",
    "        self.salary=sal\n"
   ]
  },
  {
   "cell_type": "code",
   "execution_count": 18,
   "metadata": {},
   "outputs": [],
   "source": [
    "# Protected\n",
    "class employee:\n",
    "    def __init__(self, name, sal):\n",
    "        self._name=name\n",
    "        self._salary=sal\n"
   ]
  },
  {
   "cell_type": "code",
   "execution_count": 20,
   "metadata": {},
   "outputs": [
    {
     "data": {
      "text/plain": [
       "'Ram'"
      ]
     },
     "execution_count": 20,
     "metadata": {},
     "output_type": "execute_result"
    }
   ],
   "source": [
    "# Protected\n",
    "class Employee:\n",
    "    def __init__(self, name, sal):\n",
    "        self.name=name   #public\n",
    "        self._salary=sal #protected\n",
    "obj = Employee(\"Ram\",100000)\n",
    "obj.name"
   ]
  },
  {
   "cell_type": "code",
   "execution_count": 21,
   "metadata": {},
   "outputs": [
    {
     "data": {
      "text/plain": [
       "'Ram'"
      ]
     },
     "execution_count": 21,
     "metadata": {},
     "output_type": "execute_result"
    }
   ],
   "source": [
    "# Protected\n",
    "class Employee:\n",
    "    def __init__(self, name, sal):\n",
    "        self._name=name\n",
    "        self._salary=sal\n",
    "        \n",
    "obj = Employee(\"Ram\",70000)\n",
    "obj._name"
   ]
  },
  {
   "cell_type": "code",
   "execution_count": 26,
   "metadata": {},
   "outputs": [
    {
     "name": "stdout",
     "output_type": "stream",
     "text": [
      "Ram\n"
     ]
    }
   ],
   "source": [
    "# Protected\n",
    "class Employee:\n",
    "    def __init__(self, name, sal):\n",
    "        self._name=name\n",
    "        self._salary=sal\n",
    "    def emp(self):\n",
    "        print(self._name)\n",
    "        \n",
    "obj = Employee(\"Ram\",70000)\n",
    "obj.emp()"
   ]
  },
  {
   "cell_type": "code",
   "execution_count": 28,
   "metadata": {},
   "outputs": [
    {
     "ename": "AttributeError",
     "evalue": "'Employee' object has no attribute '__name'",
     "output_type": "error",
     "traceback": [
      "\u001b[1;31m---------------------------------------------------------------------------\u001b[0m",
      "\u001b[1;31mAttributeError\u001b[0m                            Traceback (most recent call last)",
      "\u001b[1;32m<ipython-input-28-dcaa02aaabd8>\u001b[0m in \u001b[0;36m<module>\u001b[1;34m\u001b[0m\n\u001b[0;32m      6\u001b[0m \u001b[1;33m\u001b[0m\u001b[0m\n\u001b[0;32m      7\u001b[0m \u001b[0mobj\u001b[0m \u001b[1;33m=\u001b[0m \u001b[0mEmployee\u001b[0m\u001b[1;33m(\u001b[0m\u001b[1;34m\"Ram\"\u001b[0m\u001b[1;33m,\u001b[0m\u001b[1;36m70000\u001b[0m\u001b[1;33m)\u001b[0m\u001b[1;33m\u001b[0m\u001b[1;33m\u001b[0m\u001b[0m\n\u001b[1;32m----> 8\u001b[1;33m \u001b[0mobj\u001b[0m\u001b[1;33m.\u001b[0m\u001b[0m__name\u001b[0m\u001b[1;33m\u001b[0m\u001b[1;33m\u001b[0m\u001b[0m\n\u001b[0m",
      "\u001b[1;31mAttributeError\u001b[0m: 'Employee' object has no attribute '__name'"
     ]
    }
   ],
   "source": [
    "# Private\n",
    "class Employee:\n",
    "    def __init__(self, name, sal):\n",
    "        self.__name=name\n",
    "        self.__salary=sal\n",
    "\n",
    "obj = Employee(\"Ram\",70000)\n",
    "obj.__name"
   ]
  },
  {
   "cell_type": "code",
   "execution_count": 30,
   "metadata": {},
   "outputs": [
    {
     "name": "stdout",
     "output_type": "stream",
     "text": [
      "Ram\n"
     ]
    }
   ],
   "source": [
    "# Private\n",
    "class Employee:\n",
    "    def __init__(self, name, sal):\n",
    "        self.__name=name\n",
    "        self._salary=sal\n",
    "    def emp(self):\n",
    "        print(self.__name)\n",
    "        \n",
    "obj = Employee(\"Ram\",70000)\n",
    "obj.emp()"
   ]
  },
  {
   "cell_type": "code",
   "execution_count": 36,
   "metadata": {},
   "outputs": [
    {
     "name": "stdout",
     "output_type": "stream",
     "text": [
      "Ram\n",
      "Ram\n"
     ]
    }
   ],
   "source": [
    "# Private\n",
    "class Employee:\n",
    "    def __init__(self, name, sal):\n",
    "        self.__name=name\n",
    "        self._salary=sal\n",
    "    def emp(self):\n",
    "        print(self._Employee__name)\n",
    "        \n",
    "obj = Employee(\"Ram\",70000)\n",
    "print(obj._Employee__name)\n",
    "obj.emp()"
   ]
  },
  {
   "cell_type": "code",
   "execution_count": 42,
   "metadata": {},
   "outputs": [
    {
     "ename": "AttributeError",
     "evalue": "'Employee' object has no attribute 'names'",
     "output_type": "error",
     "traceback": [
      "\u001b[1;31m---------------------------------------------------------------------------\u001b[0m",
      "\u001b[1;31mAttributeError\u001b[0m                            Traceback (most recent call last)",
      "\u001b[1;32m<ipython-input-42-42ca7eda0d6b>\u001b[0m in \u001b[0;36m<module>\u001b[1;34m\u001b[0m\n\u001b[0;32m     10\u001b[0m \u001b[1;33m\u001b[0m\u001b[0m\n\u001b[0;32m     11\u001b[0m \u001b[0mobj\u001b[0m \u001b[1;33m=\u001b[0m \u001b[0mEmployee\u001b[0m\u001b[1;33m(\u001b[0m\u001b[1;34m\"Ram\"\u001b[0m\u001b[1;33m,\u001b[0m\u001b[1;36m70000\u001b[0m\u001b[1;33m)\u001b[0m\u001b[1;33m\u001b[0m\u001b[1;33m\u001b[0m\u001b[0m\n\u001b[1;32m---> 12\u001b[1;33m \u001b[0mprint\u001b[0m\u001b[1;33m(\u001b[0m\u001b[0mobj\u001b[0m\u001b[1;33m.\u001b[0m\u001b[0mnames\u001b[0m\u001b[1;33m)\u001b[0m\u001b[1;33m\u001b[0m\u001b[1;33m\u001b[0m\u001b[0m\n\u001b[0m\u001b[0;32m     13\u001b[0m \u001b[0mobj\u001b[0m\u001b[1;33m.\u001b[0m\u001b[0memp\u001b[0m\u001b[1;33m(\u001b[0m\u001b[1;33m)\u001b[0m\u001b[1;33m\u001b[0m\u001b[1;33m\u001b[0m\u001b[0m\n",
      "\u001b[1;31mAttributeError\u001b[0m: 'Employee' object has no attribute 'names'"
     ]
    }
   ],
   "source": [
    "# Private\n",
    "class Employee:\n",
    "    def __init__(self, name, sal):\n",
    "        global names\n",
    "        self.__name=name\n",
    "        self._salary=sal\n",
    "        names =  self.__name\n",
    "    def emp(self):\n",
    "        print(self._Employee__name)\n",
    "        \n",
    "obj = Employee(\"Ram\",70000)\n",
    "print(obj.names)\n",
    "obj.emp()"
   ]
  },
  {
   "cell_type": "code",
   "execution_count": 44,
   "metadata": {},
   "outputs": [
    {
     "name": "stdout",
     "output_type": "stream",
     "text": [
      "Ram\n"
     ]
    }
   ],
   "source": [
    "# Private\n",
    "class Employee:\n",
    "    def __init__(self, name, sal):\n",
    "        global names\n",
    "        self.__name=name\n",
    "        self._salary=sal\n",
    "        names =  self.__name\n",
    "    def names(self):\n",
    "        return names\n",
    "    def emp(self):\n",
    "        print(self._Employee__name)\n",
    "        \n",
    "obj = Employee(\"Ram\",70000)\n",
    "print(obj.names())"
   ]
  },
  {
   "cell_type": "code",
   "execution_count": null,
   "metadata": {},
   "outputs": [],
   "source": []
  }
 ],
 "metadata": {
  "kernelspec": {
   "display_name": "Python 3",
   "language": "python",
   "name": "python3"
  },
  "language_info": {
   "codemirror_mode": {
    "name": "ipython",
    "version": 3
   },
   "file_extension": ".py",
   "mimetype": "text/x-python",
   "name": "python",
   "nbconvert_exporter": "python",
   "pygments_lexer": "ipython3",
   "version": "3.7.1"
  }
 },
 "nbformat": 4,
 "nbformat_minor": 2
}
